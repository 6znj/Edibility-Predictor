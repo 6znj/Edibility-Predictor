
{
 "cells": [
  {
   "cell_type": "markdown",
   "metadata": {},
   "source": [
    "# Mushrooms Classifier\n",
    "## Safe to eat or deadly poison?\n",
    "\n",
    "Dataset taken from [Kaggle](https://www.kaggle.com/uciml/mushroom-classification)\n",
    "\n",
    "### Context\n",